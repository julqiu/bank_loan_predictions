{
 "cells": [
  {
   "cell_type": "markdown",
   "id": "8dcbb703",
   "metadata": {},
   "source": [
    "# Regression Models"
   ]
  },
  {
   "cell_type": "code",
   "execution_count": 34,
   "id": "21a2706f",
   "metadata": {},
   "outputs": [],
   "source": [
    "import pandas as pd\n",
    "import numpy as np\n",
    "import seaborn as sns\n",
    "import matplotlib.pyplot as plt\n",
    "from sklearn.metrics import mean_squared_error\n",
    "from sklearn.model_selection import cross_val_score,train_test_split\n",
    "from sklearn.metrics import mean_squared_error,r2_score,roc_curve,auc\n",
    "from sklearn.model_selection import KFold\n",
    "from sklearn.tree import DecisionTreeRegressor,DecisionTreeClassifier\n",
    "from sklearn.model_selection import GridSearchCV, ParameterGrid\n",
    "from sklearn.ensemble import BaggingRegressor,BaggingClassifier,RandomForestRegressor,RandomForestClassifier,AdaBoostRegressor,AdaBoostClassifier, StackingRegressor, StackingClassifier\n",
    "from sklearn.linear_model import LinearRegression,LogisticRegression\n",
    "from sklearn.neighbors import KNeighborsRegressor\n",
    "import itertools as it\n",
    "from sklearn.neighbors import KNeighborsRegressor\n",
    "\n",
    "\n",
    "#Libraries for visualizing trees\n",
    "from sklearn.tree import export_graphviz \n",
    "from six import StringIO\n",
    "from IPython.display import Image  \n",
    "import pydotplus\n",
    "\n",
    "# Linear Regression Libraries\n",
    "import statsmodels.formula.api as smf\n",
    "from sklearn.linear_model import Ridge, RidgeCV, Lasso, LassoCV\n",
    "from sklearn.preprocessing import StandardScaler\n",
    "from sklearn.metrics import r2_score\n",
    "\n",
    "# MARS\n",
    "from pyearth import Earth\n",
    "import time as time\n",
    "\n",
    "import xgboost as xgb\n",
    "from sklearn.ensemble import VotingRegressor, VotingClassifier, StackingRegressor, StackingClassifier, GradientBoostingRegressor,GradientBoostingClassifier, BaggingRegressor,BaggingClassifier,RandomForestRegressor,RandomForestClassifier,AdaBoostRegressor,AdaBoostClassifier\n",
    "\n",
    "\n",
    "np.warnings.filterwarnings('ignore')"
   ]
  },
  {
   "cell_type": "code",
   "execution_count": 35,
   "id": "f1f849f6",
   "metadata": {},
   "outputs": [],
   "source": [
    "# original data\n",
    "data = pd.read_csv('train.csv')\n",
    "validation_data = pd.read_csv('test.csv')"
   ]
  },
  {
   "cell_type": "code",
   "execution_count": 36,
   "id": "cf1cdff8",
   "metadata": {},
   "outputs": [],
   "source": [
    "# data cleaning\n",
    "state_freqs = data.addr_state.value_counts().to_frame().reset_index().rename(columns={'index' : \"state\", \"addr_state\" : \"count\"})\n",
    "other_state = state_freqs[state_freqs['count'] < data.shape[0] * .01]['state'].tolist()\n",
    "\n",
    "def clean(data):\n",
    "    \n",
    "    df = data.copy()\n",
    "    # addr_state: 'other' category\n",
    "    for obs in range(df.shape[0]):\n",
    "        if df.loc[obs, 'addr_state'] in other_state:\n",
    "            df.loc[obs, 'addr_state'] = 'Other'\n",
    "            \n",
    "    # earliest_cr_line: split month, year\n",
    "    df['earliest_cr_line_month'] = df.earliest_cr_line.str.split('-', expand = True)[0]\n",
    "    df['earliest_cr_line_year'] = df.earliest_cr_line.str.split('-', expand = True)[1].astype(int)\n",
    "    df.drop(columns = ['earliest_cr_line'], inplace = True)\n",
    "    \n",
    "    # last_credit_pull_d: split month, year\n",
    "    df['last_credit_pull_d_month'] = df.last_credit_pull_d.str.split('-', expand = True)[0]\n",
    "    df['last_credit_pull_d_year'] = df.last_credit_pull_d.str.split('-', expand = True)[1].astype(int)\n",
    "    df.drop(columns = 'last_credit_pull_d', inplace = True)\n",
    "    \n",
    "    # sub_grade: remove numeric ratings, group F and G into 'other'\n",
    "    df['sub_grade_letter'] = df['sub_grade'].str.extract('([A-Z]+)')\n",
    "    df.loc[df[\"sub_grade_letter\"] == \"F\", \"sub_grade_letter\"] = \"Other\"\n",
    "    df.loc[df[\"sub_grade_letter\"] == \"G\", \"sub_grade_letter\"] = \"Other\"\n",
    "    df.drop(columns = 'sub_grade', inplace = True)\n",
    "    \n",
    "    # drop 'id' columns\n",
    "    df.drop(columns = 'id', inplace = True)\n",
    "    \n",
    "    return df\n",
    "    \n"
   ]
  },
  {
   "cell_type": "code",
   "execution_count": 37,
   "id": "40a53f0b",
   "metadata": {},
   "outputs": [],
   "source": [
    "train = clean(data) # train \n",
    "test = clean(validation_data) # kaggle "
   ]
  },
  {
   "cell_type": "code",
   "execution_count": 38,
   "id": "231d61d0",
   "metadata": {},
   "outputs": [],
   "source": [
    "# filter for predictors\n",
    "X = train.drop(columns = ['money_made_inv'])\n",
    "# filter for response\n",
    "y = train['money_made_inv']\n",
    "\n",
    "# 70% of training data becomes the new train set, 30% becomes new test set\n",
    "Xtrain, Xtest, ytrain, ytest = train_test_split(X, y, train_size = int(train.shape[0]*.7), random_state = 1)\n"
   ]
  },
  {
   "cell_type": "code",
   "execution_count": 39,
   "id": "b33889b1",
   "metadata": {},
   "outputs": [],
   "source": [
    "# numeric predictors\n",
    "Xtrain_num = Xtrain.select_dtypes(include=np.number)\n",
    "Xtest_num = Xtest.select_dtypes(include=np.number)\n",
    "\n",
    "# categorical predictors\n",
    "Xtrain_cat = Xtrain[['sub_grade_letter', 'term', 'initial_list_status', 'application_type']]\n",
    "Xtest_cat = Xtest[['sub_grade_letter', 'term', 'initial_list_status', 'application_type']]\n",
    "\n",
    "# numeric and categorical predictors\n",
    "Xtrain_num_cat = pd.concat([Xtrain_num, pd.get_dummies(Xtrain_cat)],axis=1)\n",
    "Xtest_num_cat = pd.concat([Xtest_num, pd.get_dummies(Xtest_cat)],axis=1)\n"
   ]
  },
  {
   "cell_type": "markdown",
   "id": "55ea58b2",
   "metadata": {},
   "source": [
    "## Base Models"
   ]
  },
  {
   "cell_type": "markdown",
   "id": "d6aa536f",
   "metadata": {},
   "source": [
    "### 1a) MARS"
   ]
  },
  {
   "cell_type": "code",
   "execution_count": 40,
   "id": "1001dd28",
   "metadata": {},
   "outputs": [
    {
     "name": "stdout",
     "output_type": "stream",
     "text": [
      "Earth Model\n",
      "-------------------------------------------------------------------------------------\n",
      "Basis Function                                                 Pruned  Coefficient   \n",
      "-------------------------------------------------------------------------------------\n",
      "(Intercept)                                                    No      126530        \n",
      "h(out_prncp_inv-13815.4)                                       No      9.73563       \n",
      "h(13815.4-out_prncp_inv)                                       No      -9.15835      \n",
      "term_36 months                                                 No      -100820       \n",
      "h(out_prncp_inv-13516.5)*term_36 months                        No      -7.90078      \n",
      "h(13516.5-out_prncp_inv)*term_36 months                        No      7.459         \n",
      "h(out_prncp_inv-419.63)                                        No      -10.941       \n",
      "h(419.63-out_prncp_inv)                                        Yes     None          \n",
      "loan_amnt*h(out_prncp_inv-419.63)                              No      2.10407e-05   \n",
      "int_rate*loan_amnt*h(out_prncp_inv-419.63)                     No      1.49091e-06   \n",
      "h(out_prncp_inv-10484)*loan_amnt*h(out_prncp_inv-419.63)       No      -6.17412e-10  \n",
      "h(10484-out_prncp_inv)*loan_amnt*h(out_prncp_inv-419.63)       No      4.63518e-09   \n",
      "int_rate*h(out_prncp_inv-13815.4)                              No      -0.072986     \n",
      "term_36 months*h(out_prncp_inv-419.63)                         No      7.91793       \n",
      "term_36 months*loan_amnt*h(out_prncp_inv-419.63)               No      -1.53188e-05  \n",
      "h(out_prncp_inv-13521)*term_36 months*h(out_prncp_inv-419.63)  No      2.34992e-05   \n",
      "h(13521-out_prncp_inv)*term_36 months*h(out_prncp_inv-419.63)  No      -1.24813e-05  \n",
      "-------------------------------------------------------------------------------------\n",
      "MSE: 285221.5025, GCV: 290730.8279, RSQ: 0.9936, GRSQ: 0.9935\n"
     ]
    }
   ],
   "source": [
    "model_mars = Earth(max_terms=500, max_degree=3).fit(Xtrain_num_cat, ytrain)\n",
    "\n",
    "print(model_mars.summary())"
   ]
  },
  {
   "cell_type": "code",
   "execution_count": 41,
   "id": "acb3a69c",
   "metadata": {},
   "outputs": [
    {
     "data": {
      "text/plain": [
       "590.9646712607772"
      ]
     },
     "execution_count": 41,
     "metadata": {},
     "output_type": "execute_result"
    }
   ],
   "source": [
    "# rmse - 590.964\n",
    "pred_mars = model_mars.predict(Xtest_num_cat)\n",
    "np.sqrt(mean_squared_error(pred_mars,ytest))"
   ]
  },
  {
   "cell_type": "markdown",
   "id": "281f65b6",
   "metadata": {},
   "source": [
    "### 1b) Random Forest"
   ]
  },
  {
   "cell_type": "code",
   "execution_count": 42,
   "id": "2d6bdaaf",
   "metadata": {},
   "outputs": [],
   "source": [
    "rf_model = RandomForestRegressor(n_estimators=450,\n",
    "                                 random_state=1,\n",
    "                                 max_features = 28, \n",
    "                                 max_depth = 13,\n",
    "                                 n_jobs=-1).fit(Xtrain_num_cat, ytrain)\n"
   ]
  },
  {
   "cell_type": "code",
   "execution_count": 43,
   "id": "936daa65",
   "metadata": {},
   "outputs": [
    {
     "data": {
      "text/plain": [
       "857.9485511112829"
      ]
     },
     "execution_count": 43,
     "metadata": {},
     "output_type": "execute_result"
    }
   ],
   "source": [
    "pred_rf = rf_model.predict(Xtest_num_cat)\n",
    "np.sqrt(mean_squared_error(pred_rf,ytest))"
   ]
  },
  {
   "cell_type": "markdown",
   "id": "9bf65200",
   "metadata": {},
   "source": [
    "### 1c) XGB Boost"
   ]
  },
  {
   "cell_type": "code",
   "execution_count": 44,
   "id": "bd499d54",
   "metadata": {},
   "outputs": [
    {
     "data": {
      "text/plain": [
       "XGBRegressor(base_score=0.5, booster='gbtree', colsample_bylevel=1,\n",
       "             colsample_bynode=1, colsample_bytree=1, enable_categorical=False,\n",
       "             gamma=0, gpu_id=-1, importance_type=None,\n",
       "             interaction_constraints='', learning_rate=0.1, max_delta_step=0,\n",
       "             max_depth=4, min_child_weight=1, missing=nan,\n",
       "             monotone_constraints='()', n_estimators=1000, n_jobs=8,\n",
       "             num_parallel_tree=1, predictor='auto', random_state=1, reg_alpha=0,\n",
       "             reg_lambda=0.001, scale_pos_weight=1, subsample=1,\n",
       "             tree_method='exact', validate_parameters=1, verbosity=None)"
      ]
     },
     "execution_count": 44,
     "metadata": {},
     "output_type": "execute_result"
    }
   ],
   "source": [
    "model_xgb = xgb.XGBRegressor(random_state=1,max_depth=4,\n",
    "                             n_estimators=1000, learning_rate = 0.1,\n",
    "                             reg_lambda= 0.001)\n",
    "\n",
    "model_xgb.fit(Xtrain_num_cat, ytrain)"
   ]
  },
  {
   "cell_type": "code",
   "execution_count": 45,
   "id": "32688a7c",
   "metadata": {},
   "outputs": [
    {
     "data": {
      "text/plain": [
       "632.7679326915154"
      ]
     },
     "execution_count": 45,
     "metadata": {},
     "output_type": "execute_result"
    }
   ],
   "source": [
    "pred_xgb = model_xgb.predict(Xtest_num_cat)\n",
    "np.sqrt(mean_squared_error(pred_xgb,ytest))"
   ]
  },
  {
   "cell_type": "markdown",
   "id": "57617796",
   "metadata": {},
   "source": [
    "### Model #1: Stacking Ensemble"
   ]
  },
  {
   "cell_type": "code",
   "execution_count": 46,
   "id": "311ca01d",
   "metadata": {
    "scrolled": true
   },
   "outputs": [
    {
     "name": "stdout",
     "output_type": "stream",
     "text": [
      "Ensemble model RMSE =  497.28828741081094\n"
     ]
    }
   ],
   "source": [
    "# mars, xgb, rf = 497.28828741081094\n",
    "\n",
    "en = StackingRegressor(estimators = [('mars', model_mars), \n",
    "                                     ('xgb', model_xgb),\n",
    "                                     ('rf', rf_model)],\n",
    "                       final_estimator=Earth(max_degree = 1, max_terms = 500),\n",
    "                       cv = KFold(n_splits = 5, shuffle = True, random_state=1))\n",
    "\n",
    "\n",
    "en.fit(Xtrain_num_cat, ytrain)\n",
    "\n",
    "\n",
    "print(\"Ensemble model RMSE = \", np.sqrt(mean_squared_error(en.predict(Xtest_num_cat),ytest)))\n",
    "\n"
   ]
  },
  {
   "cell_type": "code",
   "execution_count": 47,
   "id": "c989244e",
   "metadata": {},
   "outputs": [
    {
     "data": {
      "text/html": [
       "<div>\n",
       "<style scoped>\n",
       "    .dataframe tbody tr th:only-of-type {\n",
       "        vertical-align: middle;\n",
       "    }\n",
       "\n",
       "    .dataframe tbody tr th {\n",
       "        vertical-align: top;\n",
       "    }\n",
       "\n",
       "    .dataframe thead th {\n",
       "        text-align: right;\n",
       "    }\n",
       "</style>\n",
       "<table border=\"1\" class=\"dataframe\">\n",
       "  <thead>\n",
       "    <tr style=\"text-align: right;\">\n",
       "      <th></th>\n",
       "      <th>id</th>\n",
       "      <th>Predicted</th>\n",
       "    </tr>\n",
       "  </thead>\n",
       "  <tbody>\n",
       "    <tr>\n",
       "      <th>0</th>\n",
       "      <td>1</td>\n",
       "      <td>-18.536869</td>\n",
       "    </tr>\n",
       "    <tr>\n",
       "      <th>1</th>\n",
       "      <td>2</td>\n",
       "      <td>-5.656887</td>\n",
       "    </tr>\n",
       "    <tr>\n",
       "      <th>2</th>\n",
       "      <td>3</td>\n",
       "      <td>-4464.192702</td>\n",
       "    </tr>\n",
       "    <tr>\n",
       "      <th>3</th>\n",
       "      <td>4</td>\n",
       "      <td>-75.245004</td>\n",
       "    </tr>\n",
       "    <tr>\n",
       "      <th>4</th>\n",
       "      <td>5</td>\n",
       "      <td>-10.361914</td>\n",
       "    </tr>\n",
       "  </tbody>\n",
       "</table>\n",
       "</div>"
      ],
      "text/plain": [
       "   id    Predicted\n",
       "0   1   -18.536869\n",
       "1   2    -5.656887\n",
       "2   3 -4464.192702\n",
       "3   4   -75.245004\n",
       "4   5   -10.361914"
      ]
     },
     "execution_count": 47,
     "metadata": {},
     "output_type": "execute_result"
    }
   ],
   "source": [
    "test_num = test.select_dtypes(include=np.number)\n",
    "\n",
    "test_cat = test[['sub_grade_letter', 'term', \n",
    "                 'initial_list_status', 'application_type']]\n",
    "\n",
    "validation_df = pd.concat([test_num, pd.get_dummies(test_cat)],axis=1)\n",
    "\n",
    "predictions = pd.DataFrame(en.predict(validation_df), columns = ['Predicted'])\n",
    "\n",
    "ids = validation_data['id'].to_frame()\n",
    "\n",
    "kaggle_predictions = pd.concat([ids, predictions], axis = 1)\n",
    "\n",
    "kaggle_predictions.head()\n"
   ]
  },
  {
   "cell_type": "code",
   "execution_count": 48,
   "id": "d8a2c92d",
   "metadata": {},
   "outputs": [],
   "source": [
    "kaggle_predictions.to_csv('stacking-pred.csv', index = False)"
   ]
  },
  {
   "cell_type": "markdown",
   "id": "30499715",
   "metadata": {},
   "source": [
    "### Model #2: Weighted Average Ensemble"
   ]
  },
  {
   "cell_type": "code",
   "execution_count": 49,
   "id": "bec88653",
   "metadata": {},
   "outputs": [],
   "source": [
    "m1 = model_mars.fit(Xtrain_num_cat, ytrain)\n",
    "\n",
    "m2 = model_xgb.fit(Xtrain_num_cat, ytrain)\n",
    "\n",
    "m3 = rf_model.fit(Xtrain_num_cat, ytrain)\n"
   ]
  },
  {
   "cell_type": "code",
   "execution_count": 50,
   "id": "605bacfd",
   "metadata": {},
   "outputs": [],
   "source": [
    "def weight_preds(m1, m2, m3, testing_preds):\n",
    "    pred = .5*m1.predict(testing_preds) + .4*m2.predict(testing_preds) + .1*m3.predict(testing_preds) \n",
    "    return pred\n"
   ]
  },
  {
   "cell_type": "code",
   "execution_count": 51,
   "id": "2f539332",
   "metadata": {},
   "outputs": [],
   "source": [
    "pred = weight_preds(m1, m2, m3, Xtest_num_cat)"
   ]
  },
  {
   "cell_type": "code",
   "execution_count": 52,
   "id": "ce59b98c",
   "metadata": {
    "scrolled": true
   },
   "outputs": [
    {
     "data": {
      "text/plain": [
       "547.9553200921371"
      ]
     },
     "execution_count": 52,
     "metadata": {},
     "output_type": "execute_result"
    }
   ],
   "source": [
    "# weighted average\n",
    "np.sqrt(mean_squared_error(pred, ytest))"
   ]
  },
  {
   "cell_type": "code",
   "execution_count": 53,
   "id": "b6815be7",
   "metadata": {},
   "outputs": [],
   "source": [
    "test_num = test.select_dtypes(include=np.number)\n",
    "\n",
    "test_cat = test[['sub_grade_letter', 'term', \n",
    "                 'initial_list_status', 'application_type']]\n",
    "\n",
    "validation_df = pd.concat([test_num, pd.get_dummies(test_cat)],axis=1)\n",
    "\n",
    "weighted_preds = weight_preds(m1, m2, m3, validation_df)"
   ]
  },
  {
   "cell_type": "code",
   "execution_count": 54,
   "id": "f0dbc9ab",
   "metadata": {},
   "outputs": [
    {
     "data": {
      "text/html": [
       "<div>\n",
       "<style scoped>\n",
       "    .dataframe tbody tr th:only-of-type {\n",
       "        vertical-align: middle;\n",
       "    }\n",
       "\n",
       "    .dataframe tbody tr th {\n",
       "        vertical-align: top;\n",
       "    }\n",
       "\n",
       "    .dataframe thead th {\n",
       "        text-align: right;\n",
       "    }\n",
       "</style>\n",
       "<table border=\"1\" class=\"dataframe\">\n",
       "  <thead>\n",
       "    <tr style=\"text-align: right;\">\n",
       "      <th></th>\n",
       "      <th>id</th>\n",
       "      <th>Predicted</th>\n",
       "    </tr>\n",
       "  </thead>\n",
       "  <tbody>\n",
       "    <tr>\n",
       "      <th>0</th>\n",
       "      <td>1</td>\n",
       "      <td>-0.837488</td>\n",
       "    </tr>\n",
       "    <tr>\n",
       "      <th>1</th>\n",
       "      <td>2</td>\n",
       "      <td>6.298033</td>\n",
       "    </tr>\n",
       "    <tr>\n",
       "      <th>2</th>\n",
       "      <td>3</td>\n",
       "      <td>-4206.155375</td>\n",
       "    </tr>\n",
       "    <tr>\n",
       "      <th>3</th>\n",
       "      <td>4</td>\n",
       "      <td>-32.640288</td>\n",
       "    </tr>\n",
       "    <tr>\n",
       "      <th>4</th>\n",
       "      <td>5</td>\n",
       "      <td>3.720953</td>\n",
       "    </tr>\n",
       "    <tr>\n",
       "      <th>...</th>\n",
       "      <td>...</td>\n",
       "      <td>...</td>\n",
       "    </tr>\n",
       "    <tr>\n",
       "      <th>3813</th>\n",
       "      <td>3814</td>\n",
       "      <td>-33599.427298</td>\n",
       "    </tr>\n",
       "    <tr>\n",
       "      <th>3814</th>\n",
       "      <td>3815</td>\n",
       "      <td>-29.276021</td>\n",
       "    </tr>\n",
       "    <tr>\n",
       "      <th>3815</th>\n",
       "      <td>3816</td>\n",
       "      <td>-8301.479755</td>\n",
       "    </tr>\n",
       "    <tr>\n",
       "      <th>3816</th>\n",
       "      <td>3817</td>\n",
       "      <td>-3746.519640</td>\n",
       "    </tr>\n",
       "    <tr>\n",
       "      <th>3817</th>\n",
       "      <td>3818</td>\n",
       "      <td>-6636.306173</td>\n",
       "    </tr>\n",
       "  </tbody>\n",
       "</table>\n",
       "<p>3818 rows × 2 columns</p>\n",
       "</div>"
      ],
      "text/plain": [
       "        id     Predicted\n",
       "0        1     -0.837488\n",
       "1        2      6.298033\n",
       "2        3  -4206.155375\n",
       "3        4    -32.640288\n",
       "4        5      3.720953\n",
       "...    ...           ...\n",
       "3813  3814 -33599.427298\n",
       "3814  3815    -29.276021\n",
       "3815  3816  -8301.479755\n",
       "3816  3817  -3746.519640\n",
       "3817  3818  -6636.306173\n",
       "\n",
       "[3818 rows x 2 columns]"
      ]
     },
     "execution_count": 54,
     "metadata": {},
     "output_type": "execute_result"
    }
   ],
   "source": [
    "test_num = test.select_dtypes(include=np.number)\n",
    "\n",
    "test_cat = test[['sub_grade_letter', 'term', \n",
    "                 'initial_list_status', 'application_type']]\n",
    "\n",
    "validation_df = pd.concat([test_num, pd.get_dummies(test_cat)],axis=1)\n",
    "\n",
    "predictions = pd.DataFrame(weighted_preds, columns = ['Predicted'])\n",
    "\n",
    "ids = validation_data['id'].to_frame()\n",
    "\n",
    "kaggle_predictions_wa = pd.concat([ids, predictions], axis = 1)\n",
    "\n",
    "kaggle_predictions_wa\n",
    "\n"
   ]
  },
  {
   "cell_type": "code",
   "execution_count": 55,
   "id": "45970159",
   "metadata": {},
   "outputs": [],
   "source": [
    "kaggle_predictions_wa.to_csv('weighted-pred-1.csv', index = False)"
   ]
  }
 ],
 "metadata": {
  "kernelspec": {
   "display_name": "Python 3 (ipykernel)",
   "language": "python",
   "name": "python3"
  },
  "language_info": {
   "codemirror_mode": {
    "name": "ipython",
    "version": 3
   },
   "file_extension": ".py",
   "mimetype": "text/x-python",
   "name": "python",
   "nbconvert_exporter": "python",
   "pygments_lexer": "ipython3",
   "version": "3.9.7"
  }
 },
 "nbformat": 4,
 "nbformat_minor": 5
}
